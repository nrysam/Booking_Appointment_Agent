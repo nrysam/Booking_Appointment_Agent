{
 "cells": [
  {
   "cell_type": "code",
   "execution_count": 14,
   "id": "aa9d64b5-6922-4cae-b0bd-096de370f4c8",
   "metadata": {},
   "outputs": [
    {
     "ename": "ModuleNotFoundError",
     "evalue": "No module named 'firebase_admin'",
     "output_type": "error",
     "traceback": [
      "\u001b[1;31m---------------------------------------------------------------------------\u001b[0m",
      "\u001b[1;31mModuleNotFoundError\u001b[0m                       Traceback (most recent call last)",
      "Cell \u001b[1;32mIn[14], line 8\u001b[0m\n\u001b[0;32m      6\u001b[0m \u001b[38;5;28;01mimport\u001b[39;00m \u001b[38;5;21;01mappointment_utils\u001b[39;00m\n\u001b[0;32m      7\u001b[0m \u001b[38;5;28;01mimport\u001b[39;00m \u001b[38;5;21;01mbackup_utils\u001b[39;00m\n\u001b[1;32m----> 8\u001b[0m \u001b[38;5;28;01mimport\u001b[39;00m \u001b[38;5;21;01mfirebase_utils\u001b[39;00m\n",
      "File \u001b[1;32m~\\Documents\\GitHub\\appointment bot\\firebase_utils.py:1\u001b[0m\n\u001b[1;32m----> 1\u001b[0m \u001b[38;5;28;01mimport\u001b[39;00m \u001b[38;5;21;01mfirebase_admin\u001b[39;00m\n\u001b[0;32m      2\u001b[0m \u001b[38;5;28;01mfrom\u001b[39;00m \u001b[38;5;21;01mfirebase_admin\u001b[39;00m \u001b[38;5;28;01mimport\u001b[39;00m credentials, db\n\u001b[0;32m      3\u001b[0m \u001b[38;5;28;01mimport\u001b[39;00m \u001b[38;5;21;01mpandas\u001b[39;00m \u001b[38;5;28;01mas\u001b[39;00m \u001b[38;5;21;01mpd\u001b[39;00m\n",
      "\u001b[1;31mModuleNotFoundError\u001b[0m: No module named 'firebase_admin'"
     ]
    }
   ],
   "source": [
    "import os\n",
    "import openai\n",
    "import pandas as pd\n",
    "from datetime import datetime, timedelta\n",
    "from dotenv import load_dotenv, find_dotenv\n",
    "import appointment_utils\n",
    "import backup_utils\n",
    "import firebase_utils"
   ]
  },
  {
   "cell_type": "code",
   "execution_count": 2,
   "id": "33a06544-f660-4abc-9d17-9baab3f3458c",
   "metadata": {},
   "outputs": [],
   "source": [
    "# Load environment variables\n",
    "_ = load_dotenv(find_dotenv())\n",
    "openai.api_key = os.getenv('OPENAI_API_KEY')"
   ]
  },
  {
   "cell_type": "code",
   "execution_count": 3,
   "id": "738e8f72-6725-466b-bace-74dfe2c00c03",
   "metadata": {},
   "outputs": [],
   "source": [
    "def get_completion_from_messages(messages, model=\"gpt-4o-mini\", temperature=0, max_tokens=250):\n",
    "    response = openai.ChatCompletion.create(\n",
    "        model=model,\n",
    "        messages=messages,\n",
    "        temperature=temperature, \n",
    "        max_tokens=max_tokens, \n",
    "    )\n",
    "    return response.choices[0].message[\"content\"]"
   ]
  },
  {
   "cell_type": "code",
   "execution_count": 5,
   "id": "0ebb3850-07f8-47ff-8d13-f5a5676026ae",
   "metadata": {},
   "outputs": [],
   "source": [
    "def get_dates():\n",
    "    today = datetime.today()\n",
    "    tomorrow = today + timedelta(days=1)\n",
    "    next_monday = today + timedelta(days=-today.weekday(), weeks=1)\n",
    "    next_week = [next_monday + timedelta(days=i) for i in range(7)]\n",
    "    return {\n",
    "        \"today\": today.strftime('%Y-%m-%d'),\n",
    "        \"tomorrow\": tomorrow.strftime('%Y-%m-%d'),\n",
    "        \"next_week\": [day.strftime('%Y-%m-%d') for day in next_week]\n",
    "    }"
   ]
  },
  {
   "cell_type": "code",
   "execution_count": 6,
   "id": "8674cabd-bd51-4e53-b02c-1aedc02ec647",
   "metadata": {},
   "outputs": [],
   "source": [
    "def get_date_from_day_name(day_name):\n",
    "    today = datetime.today()\n",
    "    days_of_week = [\"monday\", \"tuesday\", \"wednesday\", \"thursday\", \"friday\", \"saturday\", \"sunday\"]\n",
    "    target_day = days_of_week.index(day_name.lower())\n",
    "    current_day = today.weekday()\n",
    "    if target_day >= current_day:\n",
    "        days_until_target = target_day - current_day\n",
    "    else:\n",
    "        days_until_target = 7 - (current_day - target_day)\n",
    "    target_date = today + timedelta(days=days_until_target)\n",
    "    return target_date.strftime('%Y-%m-%d')"
   ]
  },
  {
   "cell_type": "code",
   "execution_count": null,
   "id": "e89d1553-b28a-417b-9649-89a42ca5a411",
   "metadata": {},
   "outputs": [],
   "source": [
    "def cancel_booking(df, name, date, email):\n",
    "    df_filtered = df[(df['Name'] == name) & (df['Date'] == date) & (df['Email'] == email)]\n",
    "    if df_filtered.empty:\n",
    "        return df, False\n",
    "    df = df.drop(df_filtered.index)\n",
    "    return df, True"
   ]
  },
  {
   "cell_type": "code",
   "execution_count": 7,
   "id": "b8239e29-5322-48cb-a540-756132ee8228",
   "metadata": {},
   "outputs": [],
   "source": [
    "dates = get_dates()\n",
    "\n",
    "system_message = f\"\"\"\n",
    "You are Booking Appointment Agent, an automated service for booking appointments.\n",
    "You need to be able to tell the current date and day.\n",
    "\n",
    "Follow these steps to assist customers:\n",
    "\n",
    "1. **Greeting and Understanding the Query**:\n",
    "   - Greet the customer warmly at the beginning.\n",
    "   - Ask if they want to book an appointment, cancel a booking, or inquire about availability.\n",
    "   - Remind the customer that bookings are only accepted from 9 AM to 6 PM, Monday to Saturday.\n",
    "   - Understand whether the customer wants to book an appointment, cancel a booking, or make an inquiry.\n",
    "\n",
    "2. **Checking Availability**:\n",
    "   - For specific dates or relative times without a specific time range (e.g., \"later today\", \"next week\", \"Saturday\"):\n",
    "     - Use the `find_available_slots` function to get the information of available slots on the proposed date.\n",
    "     - Inform the customer of available slots, specifying the day of the week.\n",
    "   - For specific dates with a specific time range:\n",
    "     - Check availability using the `check_availability` function.\n",
    "     - If unavailable, inform the customer of available slots using the `find_available_slots` function and ask if they want to change the time or date.\n",
    "   - If the proposed date is fully booked, inform the customer and ask for an alternative date.\n",
    "   - Accept various time formats (e.g., \"4 to 6 pm\", \"from 4 PM to 6 PM\", \"2 to 5\").\n",
    "   - Assume times provided without AM or PM as PM.\n",
    "\n",
    "3. **Collecting Customer Details**:\n",
    "   - Once a slot is confirmed, collect the customer's name, email, and contact number.\n",
    "   - Ask for any missing information if needed.\n",
    "\n",
    "4. **Confirmation and Data Entry**:\n",
    "   - Confirm all details (name, date, time, email, contact number) with the customer, specifying the day of the week.\n",
    "   - Verify availability once more.\n",
    "   - Save the booking data using the `update_appointments` and `save_appointments` functions, and create a backup.\n",
    "\n",
    "5. **Booking Cancellation**:\n",
    "   - Ask for the customer's name and the date of the booking they want to cancel.\n",
    "   - Ask for the customer's email.\n",
    "   - Verify the provided data with the database using the `cancel_booking` function.\n",
    "   - Confirm the cancellation with the customer.\n",
    "   - Delete the booking from the database using the `cancel_booking` function.\n",
    "\n",
    "6. **Date Management**:\n",
    "   - Today is {dates['today']}.\n",
    "   - Tomorrow is {dates['tomorrow']}.\n",
    "   - The dates for the next week (starting from Monday) are: {dates['next_week']}.\n",
    "\n",
    "7. **Error Handling**:\n",
    "   - Handle invalid dates/times and incomplete data gracefully.\n",
    "   - Ask the customer for necessary information if any details are missing.\n",
    "\n",
    "8. **Maintaining Conversation Context**:\n",
    "   - Maintain the conversation context to avoid repeated information requests.\n",
    "   - Continue from the previous conversation smoothly.\n",
    "\n",
    "9. **Data Privacy**:\n",
    "   - Never share another customer's data with the user.\n",
    "\n",
    "Respond in a concise, friendly, and conversational style to ensure a smooth and pleasant booking experience for the customer.\n",
    "\"\"\"\n"
   ]
  },
  {
   "cell_type": "code",
   "execution_count": 8,
   "id": "8b5d2666-5892-4dad-ac5b-dcbda8ab3cf6",
   "metadata": {},
   "outputs": [],
   "source": []
  },
  {
   "cell_type": "code",
   "execution_count": 13,
   "id": "a6ef9873-6640-4ede-a4dc-6c4594cb707b",
   "metadata": {},
   "outputs": [
    {
     "name": "stdout",
     "output_type": "stream",
     "text": [
      "Hello! I'd be happy to help you with that. Just to remind you, we only accept bookings from 9 AM to 6 PM, Monday to Saturday. \n",
      "\n",
      "Let me check the available slots for later today, July 27th. One moment, please! \n",
      "\n",
      "... \n",
      "\n",
      "I found some available slots for today, July 27th (Friday). Here are the options:\n",
      "\n",
      "- 2:00 PM\n",
      "- 3:00 PM\n",
      "- 4:00 PM\n",
      "- 5:00 PM\n",
      "\n",
      "Would you like to book one of these slots?\n"
     ]
    }
   ],
   "source": [
    "user_message = f\"\"\"\n",
    "do you have any free slots later today?\"\"\"\n",
    "\n",
    "messages =  [  \n",
    "{'role':'system', \n",
    " 'content': system_message},    \n",
    "{'role':'user', \n",
    " 'content': f\"{user_message}\"},  \n",
    "] \n",
    "\n",
    "response = get_completion_from_messages(messages)\n",
    "print(response)"
   ]
  },
  {
   "cell_type": "code",
   "execution_count": null,
   "id": "f0a43303-e226-4989-9955-dccb274ac4e7",
   "metadata": {},
   "outputs": [],
   "source": []
  }
 ],
 "metadata": {
  "kernelspec": {
   "display_name": "Python 3 (ipykernel)",
   "language": "python",
   "name": "python3"
  },
  "language_info": {
   "codemirror_mode": {
    "name": "ipython",
    "version": 3
   },
   "file_extension": ".py",
   "mimetype": "text/x-python",
   "name": "python",
   "nbconvert_exporter": "python",
   "pygments_lexer": "ipython3",
   "version": "3.11.7"
  }
 },
 "nbformat": 4,
 "nbformat_minor": 5
}
